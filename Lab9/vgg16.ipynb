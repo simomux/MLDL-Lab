{
  "cells": [
    {
      "cell_type": "markdown",
      "metadata": {
        "id": "a9knEDxY-0vn"
      },
      "source": [
        "# Implement VGG-Net\n",
        "\n",
        "1. Assert you have the following libraries installed:\n",
        "\n",
        "> `pip install torch torchvision numpy tqdm ipywidgets matplotlib`\n",
        "\n",
        "2. All Conv2D are **3x3** with padding **1**, and are followed by a BatchNorm2d (optional) and a **ReLU** activation\n",
        "\n",
        "3. All MaxPooling are **2x2** with stride **2**\n",
        "\n",
        "**Block 1**\n",
        "> + Conv2D 3->64 \n",
        "> + Conv2D 64->64 \n",
        "> + MaxPool\n",
        "\n",
        "**Block 2**\n",
        "> + Conv2D 64->128\n",
        "> + Conv2D 128->128\n",
        "> + MaxPool\n",
        "\n",
        "**Block 3**\n",
        "> + Conv2D 128->256\n",
        "> + Conv2D 256->256\n",
        "> + Conv2D 256->256\n",
        "> + MaxPool\n",
        "\n",
        "**Block 4**\n",
        "> + Conv2D 256->512\n",
        "> + Conv2D 512->512\n",
        "> + Conv2D 512->512\n",
        "> + MaxPool\n",
        "\n",
        "**Block 5**\n",
        "> + Conv2D 512->512\n",
        "> + Conv2D 512->512\n",
        "> + Conv2D 512->512\n",
        "> + MaxPool\n",
        "\n",
        "**Classifier**\n",
        "> + Linear INPUT_SIZE -> 4096 + ReLU\n",
        "> + Linear 4096 -> 1000 + ReLU\n",
        "> + Linear 1000 -> OUTPUT SIZE"
      ]
    },
    {
      "cell_type": "code",
      "execution_count": 1,
      "metadata": {
        "id": "By6XoRQyL_bN"
      },
      "outputs": [],
      "source": [
        "import torch\n",
        "import torch.nn as nn\n",
        "import torchvision.transforms as transforms\n",
        "import torch.nn.functional as F\n",
        "\n",
        "\n",
        "class VGG16(nn.Module):\n",
        "\n",
        "    def __init__(self, in_channels: int = 3, num_classes: int = 1000):\n",
        "        super(VGG16, self).__init__()\n",
        "\n",
        "        # suggestion: look into nn.Sequential()\n",
        "        # and divide the convolutional feature extraction part of the net\n",
        "        # from the final fully-connected classification part\n",
        "        self.conv_features = nn.Sequential(\n",
        "          # Block1\n",
        "          nn.Conv2d(in_channels, 64, kernel_size=3, padding=1),\n",
        "          nn.ReLU(),\n",
        "          nn.Conv2d(in_channels=64, out_channels=64, kernel_size=3, padding=1),\n",
        "          nn.ReLU(),\n",
        "          nn.MaxPool2d(kernel_size=2, stride=2),\n",
        "\n",
        "          # Block 2\n",
        "          nn.Conv2d(in_channels=64, out_channels=128, kernel_size=3, padding=1),\n",
        "          nn.ReLU(),\n",
        "          nn.Conv2d(in_channels=128, out_channels=128, kernel_size=3, padding=1),\n",
        "          nn.ReLU(),\n",
        "          nn.MaxPool2d(kernel_size=2, stride=2),\n",
        "\n",
        "          # Block 3\n",
        "          nn.Conv2d(in_channels=128, out_channels=256, kernel_size=3, padding=1),\n",
        "          nn.ReLU(),\n",
        "          nn.Conv2d(in_channels=256, out_channels=256, kernel_size=3, padding=1),\n",
        "          nn.ReLU(),\n",
        "          nn.Conv2d(in_channels=256, out_channels=256, kernel_size=3, padding=1),\n",
        "          nn.ReLU(),\n",
        "          nn.MaxPool2d(kernel_size=2, stride=2),\n",
        "\n",
        "          # Block 4\n",
        "          nn.Conv2d(in_channels=256, out_channels=512, kernel_size=3, padding=1),\n",
        "          nn.ReLU(),\n",
        "          nn.Conv2d(in_channels=512, out_channels=512, kernel_size=3, padding=1),\n",
        "          nn.ReLU(),\n",
        "          nn.Conv2d(in_channels=512, out_channels=512, kernel_size=3, padding=1),\n",
        "          nn.ReLU(),\n",
        "          nn.MaxPool2d(kernel_size=2, stride=2),\n",
        "\n",
        "          # Block 5  \n",
        "          nn.Conv2d(in_channels=512, out_channels=512, kernel_size=3, padding=1),\n",
        "          nn.ReLU(),\n",
        "          nn.Conv2d(in_channels=512, out_channels=512, kernel_size=3, padding=1),\n",
        "          nn.ReLU(),\n",
        "          nn.Conv2d(in_channels=512, out_channels=512, kernel_size=3, padding=1),\n",
        "          nn.ReLU(),\n",
        "          nn.MaxPool2d(kernel_size=2, stride=2)\n",
        "        )\n",
        "\n",
        "        # more self.stuff here...\n",
        "        self.avgpool = nn.AdaptiveAvgPool2d((7, 7))\n",
        "\n",
        "        self.classifier = nn.Sequential(\n",
        "            nn.Linear(512 * 7 * 7, 4096),\n",
        "            nn.ReLU(),\n",
        "            nn.Linear(4096, 4096),\n",
        "            nn.ReLU(),\n",
        "            nn.Linear(4096, num_classes),\n",
        "        )\n",
        "\n",
        "        \"\"\"self.flat = nn.Flatten()\n",
        "        self.fc1 = nn.Linear(512 * 7 * 7, 4096)\n",
        "        self.fc2 = nn.Linear(4096, 1000)\n",
        "        self.fc3 = nn.Linear(1000, num_classes)\"\"\"\n",
        "\n",
        "    def forward(self, x):\n",
        "        # code goes here for the forward function\n",
        "        x = self.conv_features(x)\n",
        "        x = self.avgpool(x)\n",
        "        x = torch.flatten(x, 1)\n",
        "        x = self.classifier(x)\n",
        "        return x\n"
      ]
    },
    {
      "cell_type": "markdown",
      "metadata": {
        "id": "fGj9ISKL-5hZ"
      },
      "source": [
        "# Forward Pass Debug\n",
        "If it can process random data, then you're mostly alright :D"
      ]
    },
    {
      "cell_type": "code",
      "execution_count": 2,
      "metadata": {
        "id": "aIFRGVCaMeY7"
      },
      "outputs": [
        {
          "name": "stdout",
          "output_type": "stream",
          "text": [
            "Number of parameters : 138357544\n",
            "--------------------------------------------------\n",
            "output shape for imgnet torch.Size([8, 1000])\n"
          ]
        }
      ],
      "source": [
        "import numpy as np\n",
        "\n",
        "net = VGG16()  # instantiate your net\n",
        "num_params = sum([np.prod(p.shape) for p in net.parameters()])\n",
        "print(f\"Number of parameters : {num_params}\")\n",
        "print('-' * 50)\n",
        "\n",
        "# test on Imagenet-like shaped data (224x224)\n",
        "\n",
        "X = torch.rand((8, 3, 224, 224))\n",
        "print('output shape for imgnet', net(X).shape)\n"
      ]
    },
    {
      "cell_type": "code",
      "execution_count": 3,
      "metadata": {
        "id": "s2OXLXc2TEWm"
      },
      "outputs": [
        {
          "name": "stdout",
          "output_type": "stream",
          "text": [
            "output shape for cifar torch.Size([8, 1000])\n"
          ]
        },
        {
          "data": {
            "text/plain": [
              "tensor([[-0.0061,  0.0003,  0.0190,  ...,  0.0004,  0.0194,  0.0120],\n",
              "        [-0.0061,  0.0003,  0.0190,  ...,  0.0004,  0.0194,  0.0120],\n",
              "        [-0.0061,  0.0003,  0.0190,  ...,  0.0004,  0.0194,  0.0120],\n",
              "        ...,\n",
              "        [-0.0061,  0.0003,  0.0190,  ...,  0.0004,  0.0194,  0.0120],\n",
              "        [-0.0061,  0.0003,  0.0190,  ...,  0.0004,  0.0194,  0.0120],\n",
              "        [-0.0061,  0.0003,  0.0190,  ...,  0.0004,  0.0194,  0.0120]],\n",
              "       grad_fn=<AddmmBackward0>)"
            ]
          },
          "execution_count": 3,
          "metadata": {},
          "output_type": "execute_result"
        }
      ],
      "source": [
        "# test on CIFAR-like shaped data (32x32)\n",
        "\n",
        "X = torch.rand((8, 3, 32, 32))\n",
        "print('output shape for cifar', net(X).shape)\n",
        "net(X)"
      ]
    },
    {
      "cell_type": "markdown",
      "metadata": {
        "id": "tLlCXtaH_Lrc"
      },
      "source": [
        "# OPTIONAL: Let's train on CIFAR-10"
      ]
    },
    {
      "cell_type": "markdown",
      "metadata": {
        "id": "27n3YyGvb7Iz"
      },
      "source": [
        "let's load the dataset"
      ]
    },
    {
      "cell_type": "code",
      "execution_count": 4,
      "metadata": {
        "id": "QAX1THll-IgS"
      },
      "outputs": [
        {
          "name": "stdout",
          "output_type": "stream",
          "text": [
            "Files already downloaded and verified\n",
            "Files already downloaded and verified\n"
          ]
        }
      ],
      "source": [
        "import torchvision\n",
        "import torchvision.transforms as transforms\n",
        "\n",
        "mean = (0.4913997551666284, 0.48215855929893703, 0.4465309133731618)\n",
        "std = (0.24703225141799082, 0.24348516474564, 0.26158783926049628)\n",
        "\n",
        "# Choose the appropriate transforms for the problem at hand\n",
        "# see https://pytorch.org/docs/stable/torchvision/transforms.html\n",
        "transform = transforms.Compose(\n",
        "    [transforms.ToTensor(),\n",
        "      transforms.Normalize(mean, std)\n",
        "     ])\n",
        "\n",
        "trainset = torchvision.datasets.CIFAR10(root='./data', train=True,\n",
        "                                        download=True, transform=transform)\n",
        "trainloader = torch.utils.data.DataLoader(trainset, batch_size=64,\n",
        "                                          shuffle=True, num_workers=2)\n",
        "\n",
        "testset = torchvision.datasets.CIFAR10(root='./data', train=False,\n",
        "                                       download=True, transform=transform)\n",
        "testloader = torch.utils.data.DataLoader(testset, batch_size=64,\n",
        "                                         shuffle=False, num_workers=2)\n",
        "classes = ('plane', 'car', 'bird', 'cat',\n",
        "           'deer', 'dog', 'frog', 'horse', 'ship', 'truck')\n"
      ]
    },
    {
      "cell_type": "markdown",
      "metadata": {
        "id": "SYWA3fC1b96A"
      },
      "source": [
        "Let's plot some sample images"
      ]
    },
    {
      "cell_type": "code",
      "execution_count": 5,
      "metadata": {
        "id": "TXeHsX_I_veV"
      },
      "outputs": [
        {
          "data": {
            "image/png": "[encoded data removed]",
            "text/plain": [
              "<Figure size 1000x1000 with 1 Axes>"
            ]
          },
          "metadata": {},
          "output_type": "display_data"
        }
      ],
      "source": [
        "import matplotlib.pyplot as plt\n",
        "\n",
        "# get some random training images\n",
        "images, labels = next(iter(trainloader))\n",
        "images, labels = images[:4], labels[:4]\n",
        "\n",
        "# show images\n",
        "img = torchvision.utils.make_grid(images, padding=0)\n",
        "img = img * np.array(std)[:, None, None] + np.array(mean)[:, None, None]  # unnormalize\n",
        "npimg = img.numpy().clip(0, 1)\n",
        "fig, ax = plt.subplots(figsize=(10, 10))\n",
        "ax.imshow(np.transpose(npimg, (1, 2, 0)))\n",
        "for i in range(4):\n",
        "    ax.text((i + 0.5) * (img.shape[-1] // 4), -2, classes[labels[i]], ha='center', fontsize=16)\n",
        "plt.show()\n"
      ]
    },
    {
      "cell_type": "code",
      "execution_count": 6,
      "metadata": {
        "id": "-7w-ZoDu_ZKd"
      },
      "outputs": [
        {
          "name": "stdout",
          "output_type": "stream",
          "text": [
            "Congrats, you're running this code on metal\n"
          ]
        }
      ],
      "source": [
        "assert torch.backends.mps.is_available(), \"Notebook is not configured properly!\"\n",
        "print('Congrats, you\\'re running this code on metal')\n",
        "device = 'mps'\n",
        "\n",
        "net = VGG16(num_classes=10).to(device=device)  # initialize VGG16 for this specific classification problem\n",
        "\n",
        "# Nothing works w/o Batch Norm or Proper Initialization\n",
        "\n",
        "\n",
        "def initialize_weights(model):\n",
        "    for m in model.modules():\n",
        "        if isinstance(m, nn.Conv2d):\n",
        "            nn.init.kaiming_normal_(m.weight, mode=\"fan_out\", nonlinearity=\"relu\")\n",
        "            if m.bias is not None:\n",
        "                nn.init.constant_(m.bias, 0)\n",
        "        elif isinstance(m, nn.BatchNorm2d):\n",
        "            nn.init.constant_(m.weight, 1)\n",
        "            nn.init.constant_(m.bias, 0)\n",
        "        elif isinstance(m, nn.Linear):\n",
        "            nn.init.normal_(m.weight, 0, 0.01)\n",
        "            nn.init.constant_(m.bias, 0)\n",
        "\n",
        "\n",
        "initialize_weights(net)\n",
        "\n",
        "# define here the Pytorch objects needed for training\n",
        "crit = nn.CrossEntropyLoss()  # loss criterion\n",
        "opt = torch.optim.SGD(net.parameters(), lr=0.01, momentum=0.9)  # optimizer\n",
        "epochs = 10\n"
      ]
    },
    {
      "cell_type": "markdown",
      "metadata": {
        "id": "-Sr1yvITcfNB"
      },
      "source": [
        "Training loop"
      ]
    },
    {
      "cell_type": "code",
      "execution_count": 7,
      "metadata": {
        "id": "wNn2W2ZLKSf9"
      },
      "outputs": [
        {
          "data": {
            "application/vnd.jupyter.widget-view+json": {
              "model_id": "4b9dbad163514700ac96bc408875027f",
              "version_major": 2,
              "version_minor": 0
            },
            "text/plain": [
              "Epoch 0:   0%|          | 0/782 [00:00<?, ?it/s]"
            ]
          },
          "metadata": {},
          "output_type": "display_data"
        },
        {
          "name": "stdout",
          "output_type": "stream",
          "text": [
            "Accuracy for epoch 0: 40.87%\n"
          ]
        },
        {
          "data": {
            "application/vnd.jupyter.widget-view+json": {
              "model_id": "f0c8961cb89842f4908c2a4b9f3acf4f",
              "version_major": 2,
              "version_minor": 0
            },
            "text/plain": [
              "Epoch 1:   0%|          | 0/782 [00:00<?, ?it/s]"
            ]
          },
          "metadata": {},
          "output_type": "display_data"
        },
        {
          "name": "stdout",
          "output_type": "stream",
          "text": [
            "Accuracy for epoch 1: 64.93%\n"
          ]
        },
        {
          "data": {
            "application/vnd.jupyter.widget-view+json": {
              "model_id": "d6c4fb499b4e4503a139425ab08d4bdd",
              "version_major": 2,
              "version_minor": 0
            },
            "text/plain": [
              "Epoch 2:   0%|          | 0/782 [00:00<?, ?it/s]"
            ]
          },
          "metadata": {},
          "output_type": "display_data"
        },
        {
          "name": "stdout",
          "output_type": "stream",
          "text": [
            "Accuracy for epoch 2: 69.80%\n"
          ]
        },
        {
          "data": {
            "application/vnd.jupyter.widget-view+json": {
              "model_id": "992a97db029e48df98685eb5f55939ff",
              "version_major": 2,
              "version_minor": 0
            },
            "text/plain": [
              "Epoch 3:   0%|          | 0/782 [00:00<?, ?it/s]"
            ]
          },
          "metadata": {},
          "output_type": "display_data"
        },
        {
          "name": "stdout",
          "output_type": "stream",
          "text": [
            "Accuracy for epoch 3: 73.75%\n"
          ]
        },
        {
          "data": {
            "application/vnd.jupyter.widget-view+json": {
              "model_id": "11b8254191e9484799f53faf2d9e15c2",
              "version_major": 2,
              "version_minor": 0
            },
            "text/plain": [
              "Epoch 4:   0%|          | 0/782 [00:00<?, ?it/s]"
            ]
          },
          "metadata": {},
          "output_type": "display_data"
        },
        {
          "name": "stdout",
          "output_type": "stream",
          "text": [
            "Accuracy for epoch 4: 76.24%\n"
          ]
        },
        {
          "data": {
            "application/vnd.jupyter.widget-view+json": {
              "model_id": "50e67d921e5441759c67d0377ea07352",
              "version_major": 2,
              "version_minor": 0
            },
            "text/plain": [
              "Epoch 5:   0%|          | 0/782 [00:00<?, ?it/s]"
            ]
          },
          "metadata": {},
          "output_type": "display_data"
        },
        {
          "name": "stdout",
          "output_type": "stream",
          "text": [
            "Accuracy for epoch 5: 79.07%\n"
          ]
        },
        {
          "data": {
            "application/vnd.jupyter.widget-view+json": {
              "model_id": "b5baf582f08143fc861f90ed3d266de1",
              "version_major": 2,
              "version_minor": 0
            },
            "text/plain": [
              "Epoch 6:   0%|          | 0/782 [00:00<?, ?it/s]"
            ]
          },
          "metadata": {},
          "output_type": "display_data"
        },
        {
          "name": "stdout",
          "output_type": "stream",
          "text": [
            "Accuracy for epoch 6: 77.53%\n"
          ]
        },
        {
          "data": {
            "application/vnd.jupyter.widget-view+json": {
              "model_id": "4fb42e992bca4619adaefff845ee0dca",
              "version_major": 2,
              "version_minor": 0
            },
            "text/plain": [
              "Epoch 7:   0%|          | 0/782 [00:00<?, ?it/s]"
            ]
          },
          "metadata": {},
          "output_type": "display_data"
        },
        {
          "name": "stdout",
          "output_type": "stream",
          "text": [
            "Accuracy for epoch 7: 79.91%\n"
          ]
        },
        {
          "data": {
            "application/vnd.jupyter.widget-view+json": {
              "model_id": "e652ae46e57046e69995be1d10028945",
              "version_major": 2,
              "version_minor": 0
            },
            "text/plain": [
              "Epoch 8:   0%|          | 0/782 [00:00<?, ?it/s]"
            ]
          },
          "metadata": {},
          "output_type": "display_data"
        },
        {
          "name": "stdout",
          "output_type": "stream",
          "text": [
            "Accuracy for epoch 8: 80.02%\n"
          ]
        },
        {
          "data": {
            "application/vnd.jupyter.widget-view+json": {
              "model_id": "ffd5912b0c224301a3350b7e877d10b7",
              "version_major": 2,
              "version_minor": 0
            },
            "text/plain": [
              "Epoch 9:   0%|          | 0/782 [00:00<?, ?it/s]"
            ]
          },
          "metadata": {},
          "output_type": "display_data"
        },
        {
          "name": "stdout",
          "output_type": "stream",
          "text": [
            "Accuracy for epoch 9: 79.32%\n"
          ]
        }
      ],
      "source": [
        "from tqdm.notebook import tqdm\n",
        "\n",
        "\n",
        "for e in range(epochs):\n",
        "    pbar = tqdm(total=len(trainloader), desc=f'Epoch {e}')\n",
        "    net.train()\n",
        "    for i, (x, y) in enumerate(trainloader):\n",
        "\n",
        "        # forward pass goes here\n",
        "        x, y = x.to(device), y.to(device)\n",
        "        y_pred = net(x)\n",
        "        loss = crit(y_pred, y)\n",
        "\n",
        "        opt.zero_grad()\n",
        "        loss.backward()\n",
        "        opt.step()\n",
        "\n",
        "        # logging functions\n",
        "        pbar.update(1)\n",
        "        pbar.set_postfix({'Loss': loss.item()})\n",
        "    pbar.close()\n",
        "\n",
        "    # evaluation loop\n",
        "    with torch.no_grad():\n",
        "        net.eval()\n",
        "        correct = 0\n",
        "        for x, y in testloader:\n",
        "            x, y = x.to(device), y.to(device)\n",
        "            y_pred = net(x)\n",
        "            correct += (torch.max(y_pred, 1)[1] == y).sum()\n",
        "    print(f\"Accuracy for epoch {e}: {correct / len(testset):.2%}\")\n"
      ]
    }
  ],
  "metadata": {
    "accelerator": "GPU",
    "colab": {
      "collapsed_sections": [],
      "name": "vgg16_sol (1).ipynb",
      "provenance": []
    },
    "kernelspec": {
      "display_name": "MLDL-Lab",
      "language": "python",
      "name": "python3"
    },
    "language_info": {
      "codemirror_mode": {
        "name": "ipython",
        "version": 3
      },
      "file_extension": ".py",
      "mimetype": "text/x-python",
      "name": "python",
      "nbconvert_exporter": "python",
      "pygments_lexer": "ipython3",
      "version": "3.8.19"
    }
  },
  "nbformat": 4,
  "nbformat_minor": 0
}
