{
  "cells": [
    {
      "cell_type": "markdown",
      "metadata": {
        "id": "a9knEDxY-0vn"
      },
      "source": [
        "# Implement VGG-Net\n",
        "\n",
        "1. Assert you have the following libraries installed:\n",
        "\n",
        "> `pip install torch torchvision numpy tqdm ipywidgets matplotlib`\n",
        "\n",
        "2. All Conv2D are **3x3** with padding **1**, and are followed by a BatchNorm2d (optional) and a **ReLU** activation\n",
        "\n",
        "3. All MaxPooling are **2x2** with stride **2**\n",
        "\n",
        "**Block 1**\n",
        "> + Conv2D 3->64 \n",
        "> + Conv2D 64->64 \n",
        "> + MaxPool\n",
        "\n",
        "**Block 2**\n",
        "> + Conv2D 64->128\n",
        "> + Conv2D 128->128\n",
        "> + MaxPool\n",
        "\n",
        "**Block 3**\n",
        "> + Conv2D 128->256\n",
        "> + Conv2D 256->256\n",
        "> + Conv2D 256->256\n",
        "> + MaxPool\n",
        "\n",
        "**Block 4**\n",
        "> + Conv2D 256->512\n",
        "> + Conv2D 512->512\n",
        "> + Conv2D 512->512\n",
        "> + MaxPool\n",
        "\n",
        "**Block 5**\n",
        "> + Conv2D 512->512\n",
        "> + Conv2D 512->512\n",
        "> + Conv2D 512->512\n",
        "> + MaxPool\n",
        "\n",
        "**Classifier**\n",
        "> + Linear INPUT_SIZE -> 4096 + ReLU\n",
        "> + Linear 4096 -> 1000 + ReLU\n",
        "> + Linear 1000 -> OUTPUT SIZE"
      ]
    },
    {
      "cell_type": "code",
      "execution_count": null,
      "metadata": {
        "id": "By6XoRQyL_bN"
      },
      "outputs": [],
      "source": [
        "import torch\n",
        "import torch.nn as nn\n",
        "import torchvision.transforms as transforms\n",
        "\n",
        "\n",
        "class VGG16(nn.Module):\n",
        "\n",
        "    def __init__(self, in_channels: int = 3, num_classes: int = 1000):\n",
        "        super(VGG16, self).__init__()\n",
        "\n",
        "        # suggestion: look into nn.Sequential()\n",
        "        # and divide the convolutional feature extraction part of the net\n",
        "        # from the final fully-connected classification part\n",
        "        self.conv_features = nn.Sequential(\n",
        "            ...\n",
        "        )\n",
        "\n",
        "        # more self.stuff here...\n",
        "\n",
        "    def forward(self, x):\n",
        "        # code goes here for the forward function\n",
        "        return x\n"
      ]
    },
    {
      "cell_type": "markdown",
      "metadata": {
        "id": "fGj9ISKL-5hZ"
      },
      "source": [
        "# Forward Pass Debug\n",
        "If it can process random data, then you're mostly alright :D"
      ]
    },
    {
      "cell_type": "code",
      "execution_count": null,
      "metadata": {
        "id": "aIFRGVCaMeY7"
      },
      "outputs": [],
      "source": [
        "import numpy as np\n",
        "\n",
        "net = ...  # instantiate your net\n",
        "num_params = sum([np.prod(p.shape) for p in net.parameters()])\n",
        "print(f\"Number of parameters : {num_params}\")\n",
        "print('-' * 50)\n",
        "\n",
        "# test on Imagenet-like shaped data (224x224)\n",
        "\n",
        "X = torch.rand((8, 3, 224, 224))\n",
        "print('output shape for imgnet', net(X).shape)\n"
      ]
    },
    {
      "cell_type": "code",
      "execution_count": null,
      "metadata": {
        "id": "s2OXLXc2TEWm"
      },
      "outputs": [],
      "source": [
        "# test on CIFAR-like shaped data (32x32)\n",
        "\n",
        "X = torch.rand((8, 3, 32, 32))\n",
        "print('output shape for cifar', net(X).shape)\n"
      ]
    },
    {
      "cell_type": "markdown",
      "metadata": {
        "id": "tLlCXtaH_Lrc"
      },
      "source": [
        "# OPTIONAL: Let's train on CIFAR-10"
      ]
    },
    {
      "cell_type": "markdown",
      "metadata": {
        "id": "27n3YyGvb7Iz"
      },
      "source": [
        "let's load the dataset"
      ]
    },
    {
      "cell_type": "code",
      "execution_count": null,
      "metadata": {
        "id": "QAX1THll-IgS"
      },
      "outputs": [],
      "source": [
        "import torchvision\n",
        "import torchvision.transforms as transforms\n",
        "\n",
        "mean = (0.4913997551666284, 0.48215855929893703, 0.4465309133731618)\n",
        "std = (0.24703225141799082, 0.24348516474564, 0.26158783926049628)\n",
        "\n",
        "# Choose the appropriate transforms for the problem at hand\n",
        "# see https://pytorch.org/docs/stable/torchvision/transforms.html\n",
        "transform = transforms.Compose(\n",
        "    [transforms.ToTensor(),\n",
        "     ...  # your transforms here\n",
        "     ])\n",
        "\n",
        "trainset = torchvision.datasets.CIFAR10(root='./data', train=True,\n",
        "                                        download=True, transform=transform)\n",
        "trainloader = torch.utils.data.DataLoader(trainset, batch_size=64,\n",
        "                                          shuffle=True, num_workers=2)\n",
        "\n",
        "testset = torchvision.datasets.CIFAR10(root='./data', train=False,\n",
        "                                       download=True, transform=transform)\n",
        "testloader = torch.utils.data.DataLoader(testset, batch_size=64,\n",
        "                                         shuffle=False, num_workers=2)\n",
        "classes = ('plane', 'car', 'bird', 'cat',\n",
        "           'deer', 'dog', 'frog', 'horse', 'ship', 'truck')\n"
      ]
    },
    {
      "cell_type": "markdown",
      "metadata": {
        "id": "SYWA3fC1b96A"
      },
      "source": [
        "Let's plot some sample images"
      ]
    },
    {
      "cell_type": "code",
      "execution_count": null,
      "metadata": {
        "id": "TXeHsX_I_veV"
      },
      "outputs": [],
      "source": [
        "import matplotlib.pyplot as plt\n",
        "\n",
        "# get some random training images\n",
        "images, labels = next(iter(trainloader))\n",
        "images, labels = images[:4], labels[:4]\n",
        "\n",
        "# show images\n",
        "img = torchvision.utils.make_grid(images, padding=0)\n",
        "img = img * np.array(std)[:, None, None] + np.array(mean)[:, None, None]  # unnormalize\n",
        "npimg = img.numpy().clip(0, 1)\n",
        "fig, ax = plt.subplots(figsize=(10, 10))\n",
        "ax.imshow(np.transpose(npimg, (1, 2, 0)))\n",
        "for i in range(4):\n",
        "    ax.text((i + 0.5) * (img.shape[-1] // 4), -2, classes[labels[i]], ha='center', fontsize=16)\n",
        "plt.show()\n"
      ]
    },
    {
      "cell_type": "code",
      "execution_count": null,
      "metadata": {
        "id": "-7w-ZoDu_ZKd"
      },
      "outputs": [],
      "source": [
        "assert torch.cuda.is_available(), \"Notebook is not configured properly!\"\n",
        "print('Congrats, you\\'re running this code on a', torch.cuda.get_device_name(), 'gpu')\n",
        "device = 'cuda:0'\n",
        "\n",
        "net = VGG16(...)  # initialize VGG16 for this specific classification problem\n",
        "\n",
        "# Nothing works w/o Batch Norm or Proper Initialization\n",
        "\n",
        "\n",
        "def initialize_weights(model):\n",
        "    for m in model.modules():\n",
        "        if isinstance(m, nn.Conv2d):\n",
        "            nn.init.kaiming_normal_(m.weight, mode=\"fan_out\", nonlinearity=\"relu\")\n",
        "            if m.bias is not None:\n",
        "                nn.init.constant_(m.bias, 0)\n",
        "        elif isinstance(m, nn.BatchNorm2d):\n",
        "            nn.init.constant_(m.weight, 1)\n",
        "            nn.init.constant_(m.bias, 0)\n",
        "        elif isinstance(m, nn.Linear):\n",
        "            nn.init.normal_(m.weight, 0, 0.01)\n",
        "            nn.init.constant_(m.bias, 0)\n",
        "\n",
        "\n",
        "initialize_weights(net)\n",
        "\n",
        "# define here the Pytorch objects needed for training\n",
        "crit = ...  # loss criterion\n",
        "opt = ...  # optimizer\n",
        "epochs = 10\n"
      ]
    },
    {
      "cell_type": "markdown",
      "metadata": {
        "id": "-Sr1yvITcfNB"
      },
      "source": [
        "Training loop"
      ]
    },
    {
      "cell_type": "code",
      "execution_count": null,
      "metadata": {
        "id": "wNn2W2ZLKSf9"
      },
      "outputs": [],
      "source": [
        "from tqdm.notebook import tqdm\n",
        "\n",
        "\n",
        "for e in range(epochs):\n",
        "    pbar = tqdm(total=len(trainloader), desc=f'Epoch {e}')\n",
        "    net.train()\n",
        "    for i, (x, y) in enumerate(trainloader):\n",
        "\n",
        "        # forward pass goes here\n",
        "        ...\n",
        "\n",
        "        # logging functions\n",
        "        pbar.update(1)\n",
        "        pbar.set_postfix({'Loss': loss.item()})\n",
        "    pbar.close()\n",
        "\n",
        "    # evaluation loop\n",
        "    with torch.no_grad():\n",
        "        net.eval()\n",
        "        correct = 0\n",
        "        for x, y in testloader:\n",
        "            ...\n",
        "            correct += ...\n",
        "    print(f\"Accuracy for epoch {e}: {correct / len(testset):.2%}\")\n"
      ]
    }
  ],
  "metadata": {
    "accelerator": "GPU",
    "colab": {
      "collapsed_sections": [],
      "name": "vgg16_sol (1).ipynb",
      "provenance": []
    },
    "kernelspec": {
      "display_name": "Python 3",
      "name": "python3"
    },
    "language_info": {
      "name": "python",
      "version": "3.10.13"
    }
  },
  "nbformat": 4,
  "nbformat_minor": 0
}
