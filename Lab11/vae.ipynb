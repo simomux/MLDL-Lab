{
  "cells": [
    {
      "cell_type": "code",
      "execution_count": 1,
      "metadata": {},
      "outputs": [
        {
          "name": "stdout",
          "output_type": "stream",
          "text": [
            "tensor([1.], device='mps:0')\n"
          ]
        }
      ],
      "source": [
        "import torch\n",
        "if torch.backends.mps.is_available():\n",
        "    mps_device = torch.device(\"mps\")\n",
        "    x = torch.ones(1, device=mps_device)\n",
        "    print (x)\n",
        "else:\n",
        "    print (\"MPS device not found.\")"
      ]
    },
    {
      "cell_type": "code",
      "execution_count": 2,
      "metadata": {
        "id": "j_IIrqdCMFqP"
      },
      "outputs": [
        {
          "name": "stdout",
          "output_type": "stream",
          "text": [
            "Downloading http://yann.lecun.com/exdb/mnist/train-images-idx3-ubyte.gz\n",
            "Failed to download (trying next):\n",
            "HTTP Error 403: Forbidden\n",
            "\n",
            "Downloading https://ossci-datasets.s3.amazonaws.com/mnist/train-images-idx3-ubyte.gz\n",
            "Downloading https://ossci-datasets.s3.amazonaws.com/mnist/train-images-idx3-ubyte.gz to /tmp/data/MNIST/raw/train-images-idx3-ubyte.gz\n"
          ]
        },
        {
          "name": "stderr",
          "output_type": "stream",
          "text": [
            "100.0%\n"
          ]
        },
        {
          "name": "stdout",
          "output_type": "stream",
          "text": [
            "Extracting /tmp/data/MNIST/raw/train-images-idx3-ubyte.gz to /tmp/data/MNIST/raw\n",
            "\n",
            "Downloading http://yann.lecun.com/exdb/mnist/train-labels-idx1-ubyte.gz\n",
            "Failed to download (trying next):\n",
            "HTTP Error 403: Forbidden\n",
            "\n",
            "Downloading https://ossci-datasets.s3.amazonaws.com/mnist/train-labels-idx1-ubyte.gz\n",
            "Downloading https://ossci-datasets.s3.amazonaws.com/mnist/train-labels-idx1-ubyte.gz to /tmp/data/MNIST/raw/train-labels-idx1-ubyte.gz\n"
          ]
        },
        {
          "name": "stderr",
          "output_type": "stream",
          "text": [
            "100.0%\n"
          ]
        },
        {
          "name": "stdout",
          "output_type": "stream",
          "text": [
            "Extracting /tmp/data/MNIST/raw/train-labels-idx1-ubyte.gz to /tmp/data/MNIST/raw\n",
            "\n",
            "Downloading http://yann.lecun.com/exdb/mnist/t10k-images-idx3-ubyte.gz\n",
            "Failed to download (trying next):\n",
            "HTTP Error 403: Forbidden\n",
            "\n",
            "Downloading https://ossci-datasets.s3.amazonaws.com/mnist/t10k-images-idx3-ubyte.gz\n",
            "Downloading https://ossci-datasets.s3.amazonaws.com/mnist/t10k-images-idx3-ubyte.gz to /tmp/data/MNIST/raw/t10k-images-idx3-ubyte.gz\n"
          ]
        },
        {
          "name": "stderr",
          "output_type": "stream",
          "text": [
            "100.0%\n"
          ]
        },
        {
          "name": "stdout",
          "output_type": "stream",
          "text": [
            "Extracting /tmp/data/MNIST/raw/t10k-images-idx3-ubyte.gz to /tmp/data/MNIST/raw\n",
            "\n",
            "Downloading http://yann.lecun.com/exdb/mnist/t10k-labels-idx1-ubyte.gz\n",
            "Failed to download (trying next):\n",
            "HTTP Error 403: Forbidden\n",
            "\n",
            "Downloading https://ossci-datasets.s3.amazonaws.com/mnist/t10k-labels-idx1-ubyte.gz\n",
            "Downloading https://ossci-datasets.s3.amazonaws.com/mnist/t10k-labels-idx1-ubyte.gz to /tmp/data/MNIST/raw/t10k-labels-idx1-ubyte.gz\n"
          ]
        },
        {
          "name": "stderr",
          "output_type": "stream",
          "text": [
            "100.0%"
          ]
        },
        {
          "name": "stdout",
          "output_type": "stream",
          "text": [
            "Extracting /tmp/data/MNIST/raw/t10k-labels-idx1-ubyte.gz to /tmp/data/MNIST/raw\n",
            "\n",
            "True\n",
            "True\n"
          ]
        },
        {
          "name": "stderr",
          "output_type": "stream",
          "text": [
            "\n"
          ]
        },
        {
          "data": {
            "text/plain": [
              "device(type='mps')"
            ]
          },
          "execution_count": 2,
          "metadata": {},
          "output_type": "execute_result"
        }
      ],
      "source": [
        "import torch\n",
        "import torch.nn as nn\n",
        "import torch.nn.functional as F\n",
        "import torch.optim as optim\n",
        "import matplotlib.pyplot as plt\n",
        "\n",
        "from torch.utils.data import DataLoader\n",
        "from torchvision import datasets\n",
        "from torchvision import transforms\n",
        "\n",
        "device = torch.device('mps' if torch.backends.mps.is_available() else 'cpu')\n",
        "\n",
        "transforms = transforms.Compose([transforms.ToTensor()])\n",
        "\n",
        "train_dataset = datasets.MNIST('/tmp/data', train=True, download=True, \n",
        "                               transform=transforms)\n",
        "\n",
        "test_dataset = datasets.MNIST('./data', train=False, download=True,\n",
        "                              transform=transforms)\n",
        "\n",
        "print(torch.backends.mps.is_built())\n",
        "print(torch.backends.mps.is_available())\n",
        "device"
      ]
    },
    {
      "cell_type": "code",
      "execution_count": 3,
      "metadata": {
        "id": "yHu1ajIoMr7o"
      },
      "outputs": [],
      "source": [
        "BATCH_SIZE      = 64        # number of data points in each batch\n",
        "N_EPOCHS        = 10        # times to run the model on complete data\n",
        "INPUT_DIM       = 28 * 28   # size of each input\n",
        "HIDDEN_DIM      = 256       # hidden dimension\n",
        "LATENT_DIM      = 20        # latent vector dimension\n",
        "lr              = 1e-3      # learning rate"
      ]
    },
    {
      "cell_type": "code",
      "execution_count": 4,
      "metadata": {
        "id": "MBxovLF7MtR9"
      },
      "outputs": [],
      "source": [
        "train_iterator = DataLoader(train_dataset, batch_size=BATCH_SIZE, shuffle=True)\n",
        "test_iterator = DataLoader(test_dataset, batch_size=BATCH_SIZE)"
      ]
    },
    {
      "cell_type": "code",
      "execution_count": 5,
      "metadata": {
        "id": "EByRRl8RMvz9"
      },
      "outputs": [],
      "source": [
        "class Encoder(nn.Module):\n",
        "  ''' This the encoder part of VAE'''\n",
        "\n",
        "  def __init__(self, input_dim: int, hidden_dim: int, z_dim: int):\n",
        "    '''\n",
        "    Args:\n",
        "      input_dim: A integer indicating the size of input \n",
        "        (in case of MNIST 28 * 28).\n",
        "      hidden_dim: A integer indicating the size of hidden dimension.\n",
        "      z_dim: A integer indicating the latent dimension.\n",
        "    '''\n",
        "    super(Encoder, self).__init__()\n",
        "\n",
        "    self.z_dim = z_dim\n",
        "    self.encoder = nn.Sequential(\n",
        "      nn.Linear(input_dim, hidden_dim), \n",
        "      nn.ReLU(),\n",
        "      nn.Linear(hidden_dim, hidden_dim), \n",
        "      nn.ReLU(),\n",
        "      nn.Linear(hidden_dim, 2*z_dim),\n",
        "    )\n",
        "\n",
        "  def forward(self, x: torch.Tensor):\n",
        "    # x is of shape [batch_size, input_dim]\n",
        "\n",
        "    hidden = self.encoder(x)\n",
        "    z_mu, z_logvar = hidden[:, :self.z_dim], hidden[:, self.z_dim:]\n",
        "\n",
        "    return z_mu, z_logvar"
      ]
    },
    {
      "cell_type": "code",
      "execution_count": 6,
      "metadata": {
        "id": "MYvWzg1hM0At"
      },
      "outputs": [],
      "source": [
        "class Decoder(nn.Module):\n",
        "  ''' This the decoder part of VAE'''\n",
        "\n",
        "  def __init__(self, z_dim: int, hidden_dim: int, output_dim: int):\n",
        "    '''\n",
        "    Args:\n",
        "        z_dim: A integer indicating the latent size.\n",
        "        hidden_dim: A integer indicating the size of hidden dimension.\n",
        "        output_dim: A integer indicating the output dimension \n",
        "          (in case of MNIST it is 28 * 28)\n",
        "    '''\n",
        "    super(Decoder, self).__init__()\n",
        "\n",
        "    self.decoder = nn.Sequential(\n",
        "      nn.Linear(z_dim, hidden_dim), \n",
        "      nn.ReLU(),\n",
        "      nn.Linear(hidden_dim, hidden_dim), \n",
        "      nn.ReLU(),\n",
        "      nn.Linear(hidden_dim, output_dim),\n",
        "      nn.Sigmoid()\n",
        "    )\n",
        "\n",
        "  def forward(self, x: torch.Tensor):\n",
        "    return self.decoder(x)"
      ]
    },
    {
      "cell_type": "markdown",
      "metadata": {
        "id": "jb0e8m-MF_a_"
      },
      "source": [
        "# Variational AutoEncoder\n",
        "\n",
        "\\begin{align}\n",
        "\\boldsymbol{\\mu}_x, \\boldsymbol{\\sigma}_x &= M(\\textbf{x}), \\Sigma(\\textbf{x}) && \\text{Push $\\textbf{x}$ through encoder}\n",
        "\\\\ \\\\\n",
        "\\boldsymbol{\\epsilon} &\\sim \\mathcal{N}(0, 1) && \\text{Sample noise}\n",
        "\\\\ \\\\\n",
        "\\textbf{z} &= \\boldsymbol{\\epsilon} \\boldsymbol{\\sigma}_x + \\boldsymbol{\\mu}_x  && \\text{Reparameterize}\n",
        "\\\\ \\\\\n",
        "\\textbf{x}_r &= p_{\\boldsymbol{\\theta}}(\\textbf{x} \\mid \\textbf{z}) && \\text{Push $\\textbf{z}$ through decoder}\n",
        "\\end{align}"
      ]
    },
    {
      "cell_type": "code",
      "execution_count": 7,
      "metadata": {
        "id": "LrOC6YrSM85V"
      },
      "outputs": [],
      "source": [
        "class VAE(nn.Module):\n",
        "  ''' This the VAE, which takes a encoder and decoder.'''\n",
        "\n",
        "  def __init__(self, enc: Encoder, dec: Decoder):\n",
        "    super(VAE, self).__init__()\n",
        "    self.enc = enc\n",
        "    self.dec = dec\n",
        "\n",
        "  def reparameterization_trick(self, z_mu: torch.Tensor, \n",
        "                                z_logvar: torch.Tensor):\n",
        "  \n",
        "    # implement reparametrization trick\n",
        "    return z_mu + torch.exp(z_logvar) * torch.randn_like(z_mu)\n",
        "\n",
        "  def forward(self, x: torch.Tensor):\n",
        "    \n",
        "    # encode\n",
        "    z_mu, z_logvar = self.enc(x)\n",
        "\n",
        "    # sample z from posterior distribution\n",
        "    z_post = self.reparameterization_trick(z_mu, z_logvar)\n",
        "    \n",
        "    # decode\n",
        "    predicted = self.dec(z_post)\n",
        "\n",
        "    return predicted, z_mu, z_logvar\n",
        "\n",
        "  def sample(self, num_samples: int = 1):\n",
        "    \n",
        "    # implement sampling of num_samples datapoint\n",
        "    z = torch.randn((num_samples, LATENT_DIM), device=device)\n",
        "    return self.dec(z)"
      ]
    },
    {
      "cell_type": "markdown",
      "metadata": {
        "id": "J1s5HnYhGTWc"
      },
      "source": [
        "# ELBO computation\n",
        "\n",
        "\\begin{align}\n",
        "\\text{recon. loss} &= \\text{MSE}(\\textbf{x}, \\textbf{x}_r) \\ \\ \\text{or} \\ \\  \\text{BCE}(\\textbf{x}, \\textbf{x}_r) && \\text{Compute reconstruction loss}\n",
        "\\\\ \\\\\n",
        "\\text{var. loss} &= \\text{KL}[\\mathcal{N}(\\boldsymbol{\\mu}_x, \\boldsymbol{\\sigma}_x) \\lVert \\mathcal{N}(0, I)] && \\text{Compute variational loss}\n",
        "\\\\ \\\\\n",
        "\\text{L} &= \\text{recon. loss} + \\text{var. loss} && \\text{Combine losses}\n",
        "\\end{align}\n",
        "\n",
        "\\\\\n",
        "\n",
        "\\begin{aligned}\n",
        "\\text{KL}[\\mathcal{N}(\\mu_1, \\Sigma_1) \\lVert \\mathcal{N}(\\mu_2, \\Sigma_2))] &= \\\\ \n",
        "& \\frac{1}{2}\\left[\\log\\frac{|\\Sigma_2|}{|\\Sigma_1|} - d + \\text{tr} \\{ \\Sigma_2^{-1}\\Sigma_1 \\} + (\\mu_2 - \\mu_1)^T \\Sigma_2^{-1}(\\mu_2 - \\mu_1)\\right], \\text{where}~~d~~\\text{is the number of dimensions}\n",
        "\\end{aligned}"
      ]
    },
    {
      "cell_type": "code",
      "execution_count": 8,
      "metadata": {
        "id": "sI-ZQU2FQlQu"
      },
      "outputs": [],
      "source": [
        "class ELBO(nn.Module):\n",
        "\n",
        "  def __init__(self):\n",
        "    super(ELBO, self).__init__()\n",
        "\n",
        "  def compute_rec_error_(self, x: torch.Tensor, x_rec: torch.Tensor):\n",
        "    # implement reconstruction error\n",
        "    return F.binary_cross_entropy(x_rec, x, reduction='sum')\n",
        "  \n",
        "  def compute_kl_(sefl, z_mu: torch.Tensor, z_logvar: torch.Tensor):\n",
        "    # implement kl divergence (see above, think of what you're matching)\n",
        "    return 0.5 * torch.sum(torch.exp(z_logvar) + z_mu**2 - - 1.0 - z_logvar)\n",
        "\n",
        "  def forward(self, x: torch.Tensor, x_rec: torch.Tensor, \n",
        "              z_mu: torch.Tensor, z_logvar: torch.Tensor): \n",
        "\n",
        "    # reconstruction loss\n",
        "    recon_loss = self.compute_rec_error_(x, x_rec)\n",
        "\n",
        "    # kl divergence loss\n",
        "    kl_loss = self.compute_kl_(z_mu, z_logvar)\n",
        "\n",
        "    # total loss\n",
        "    loss = recon_loss + kl_loss\n",
        "\n",
        "    return loss"
      ]
    },
    {
      "cell_type": "code",
      "execution_count": 9,
      "metadata": {
        "id": "D38EzoMeNMof"
      },
      "outputs": [],
      "source": [
        "from torch.utils.data import DataLoader\n",
        "\n",
        "def eval(data_loader: DataLoader, model: VAE):\n",
        "    \n",
        "  # set the evaluation mode\n",
        "  model.eval()\n",
        "\n",
        "  # test loss for the data\n",
        "  test_loss = 0\n",
        "  num_examples = 0\n",
        "\n",
        "  # define the ELBO loss function\n",
        "  loss = ELBO()\n",
        "\n",
        "  # we don't need to track the gradients, since we are not updating the \n",
        "  # parameters during evaluation / testing\n",
        "  with torch.no_grad():\n",
        "    for i, (x, _) in enumerate(data_loader):\n",
        "      # reshape the data\n",
        "      x = x.view(-1, 28 * 28)\n",
        "      x = x.to(device)\n",
        "\n",
        "      # forward pass\n",
        "      x_rec, z_mu, z_logvar = model(x)\n",
        "\n",
        "      test_loss += loss(x, x_rec, z_mu, z_logvar).item()\n",
        "      num_examples += len(x)\n",
        "\n",
        "  return test_loss/num_examples"
      ]
    },
    {
      "cell_type": "code",
      "execution_count": 10,
      "metadata": {
        "id": "xYXv6y97NCQ2"
      },
      "outputs": [
        {
          "name": "stdout",
          "output_type": "stream",
          "text": [
            "Epoch 0, Train Loss: 144.27,         Test Loss: 143.31\n",
            "Epoch 1, Train Loss: 127.61,         Test Loss: 126.79\n",
            "Epoch 2, Train Loss: 121.16,         Test Loss: 120.44\n",
            "Epoch 3, Train Loss: 118.16,         Test Loss: 117.59\n",
            "Epoch 4, Train Loss: 116.94,         Test Loss: 116.60\n",
            "Epoch 5, Train Loss: 114.98,         Test Loss: 114.77\n",
            "Epoch 6, Train Loss: 114.13,         Test Loss: 114.01\n",
            "Epoch 7, Train Loss: 113.36,         Test Loss: 113.37\n",
            "Epoch 8, Train Loss: 112.36,         Test Loss: 112.54\n",
            "Epoch 9, Train Loss: 111.80,         Test Loss: 112.03\n"
          ]
        }
      ],
      "source": [
        "encoder   = Encoder(INPUT_DIM, HIDDEN_DIM, LATENT_DIM) # encoder\n",
        "decoder   = Decoder(LATENT_DIM, HIDDEN_DIM, INPUT_DIM) # decoder\n",
        "model     = VAE(encoder, decoder).to(device) # vae\n",
        "optimizer = optim.Adam(model.parameters(), lr=lr)  # optizer\n",
        "loss_fun  = ELBO()\n",
        "\n",
        "for e in range(N_EPOCHS):\n",
        "\n",
        "  # set the train mode\n",
        "  model.train()\n",
        "  \n",
        "  for i, (x, _) in enumerate(train_iterator):\n",
        "      \n",
        "    # reshape the data into [batch_size, 784]\n",
        "    x = x.view(-1, 28 * 28).to(device)\n",
        "\n",
        "    # update the gradients to zero\n",
        "    optimizer.zero_grad()\n",
        "\n",
        "    # forward pass\n",
        "    x_rec, z_mu, z_logvar = model(x)\n",
        "\n",
        "    loss = loss_fun(x, x_rec, z_mu, z_logvar)\n",
        "    \n",
        "    # backward pass\n",
        "    loss.backward()\n",
        "    \n",
        "    # update the weights\n",
        "    optimizer.step()\n",
        "\n",
        "  print(f'Epoch {e}, Train Loss: {eval(train_iterator, model):.2f}, \\\n",
        "        Test Loss: {eval(test_iterator, model):.2f}')"
      ]
    },
    {
      "cell_type": "markdown",
      "metadata": {
        "id": "Y1qrESQnxe1x"
      },
      "source": [
        "# Example: sampling"
      ]
    },
    {
      "cell_type": "code",
      "execution_count": 11,
      "metadata": {
        "id": "mtPqUgqbNUkT"
      },
      "outputs": [
        {
          "data": {
            "text/plain": [
              "<matplotlib.image.AxesImage at 0x31a3485b0>"
            ]
          },
          "execution_count": 11,
          "metadata": {},
          "output_type": "execute_result"
        },
        {
          "data": {
            "image/png": "[encoded data removed]",
            "text/plain": [
              "<Figure size 640x480 with 1 Axes>"
            ]
          },
          "metadata": {},
          "output_type": "display_data"
        }
      ],
      "source": [
        "img = model.sample()\n",
        "img = img.view(28, 28)\n",
        "img = img.cpu().detach().numpy()\n",
        "\n",
        "plt.imshow(img, cmap='gray')"
      ]
    },
    {
      "cell_type": "markdown",
      "metadata": {
        "id": "0pREZq-Kxgti"
      },
      "source": [
        "# Example: interpolation"
      ]
    },
    {
      "cell_type": "code",
      "execution_count": 12,
      "metadata": {
        "id": "IVwf6wowxdvc"
      },
      "outputs": [
        {
          "data": {
            "image/png": "[encoded data removed]",
            "text/plain": [
              "<Figure size 2100x300 with 7 Axes>"
            ]
          },
          "metadata": {},
          "output_type": "display_data"
        }
      ],
      "source": [
        "number_one = train_dataset.data[train_dataset.targets == 1][0]\n",
        "number_five = train_dataset.data[train_dataset.targets == 5][0]\n",
        "\n",
        "with torch.no_grad():\n",
        "  one_mu, one_logvar = model.enc((number_one.view(-1, 28 * 28) / 255.).to(device))\n",
        "  z_one = model.reparameterization_trick(one_mu, one_logvar)\n",
        "  five_mu, five_logvar = model.enc((number_five.view(-1, 28 * 28) / 255.).to(device))\n",
        "  z_five = model.reparameterization_trick(five_mu, five_logvar)\n",
        "\n",
        "  fig, ax = plt.subplots(1, 7, figsize=(21,3))\n",
        "  for n, i in enumerate(torch.linspace(0, 1, 7)):\n",
        "    predicted = model.dec(z_five * i + z_one * (1-i)).cpu()\n",
        "    ax[n].imshow(predicted.view(28,28))"
      ]
    }
  ],
  "metadata": {
    "accelerator": "GPU",
    "colab": {
      "collapsed_sections": [],
      "name": "vae.ipynb",
      "provenance": []
    },
    "kernelspec": {
      "display_name": "MLDL-Lab",
      "language": "python",
      "name": "python3"
    },
    "language_info": {
      "codemirror_mode": {
        "name": "ipython",
        "version": 3
      },
      "file_extension": ".py",
      "mimetype": "text/x-python",
      "name": "python",
      "nbconvert_exporter": "python",
      "pygments_lexer": "ipython3",
      "version": "3.8.19"
    }
  },
  "nbformat": 4,
  "nbformat_minor": 0
}
